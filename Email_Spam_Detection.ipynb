{
 "cells": [
  {
   "cell_type": "markdown",
   "id": "07c2741c",
   "metadata": {},
   "source": [
    "<div style=\"text-align: center;\">\n",
    "    <h1 style=\"font-size:50px\">Email Spam Detection Project</h1>\n",
    "</div>\n",
    "\n",
    "<h1>Objective</h1>\n",
    "\n",
    "<p style=\"font-size:15px;line-height: 1.5;\">The objective of this project is to develop machine learning models that can accurately classify emails as either 'spam' or 'ham'. The aim is to identify and filter out unwanted or malicious emails to enhance email security and user experience.</p>\n",
    "\n",
    "<h1>Dataset</h1>\n",
    "\n",
    "<p style=\"font-size:15px;line-height: 1.5;\">The dataset used consists of 5572 rows and 2 columns. Each row consists of the email message and the label (spam or ham)</p>\n",
    "\n",
    "<h1>Approach</h1>\n",
    "\n",
    "<ul style=\"font-size:15px;line-height: 1.5;\">\n",
    "    <li>First, the dataset is explored to understand its structure.</li>\n",
    "    <li>Pre-Processing of dataset is done by encoding the target variable and splitting the dataset into training and testing sets in 8:2 ratio.</li>\n",
    "    <li>6 different models are used for classification:\n",
    "        <ul style=\"font-size:15px;line-height: 1.5;\">\n",
    "            <li>Logistic Regression</li>\n",
    "            <li>Multinomial Naive Bayes</li>\n",
    "            <li>Decision Tree</li>\n",
    "            <li>Random Forest</li>\n",
    "            <li>Support Vector Machine</li>\n",
    "            <li>K-Nearest Neighbors</li>\n",
    "        </ul>\n",
    "    </li>\n",
    "    <li>Each model is saved as a '.pkl' file.</li>\n",
    "    <li>Users will be prompted to load the model of their choice and enter the email message in an interactive manner to make predictions.</li>\n",
    "</ul>"
   ]
  },
  {
   "cell_type": "markdown",
   "id": "30fb6ad7",
   "metadata": {},
   "source": [
    "# Import The Libraries"
   ]
  },
  {
   "cell_type": "code",
   "execution_count": 1,
   "id": "044aa5e5",
   "metadata": {},
   "outputs": [],
   "source": [
    "import numpy as np\n",
    "import pandas as pd\n",
    "from sklearn.model_selection import train_test_split\n",
    "from sklearn.feature_extraction.text import TfidfVectorizer\n",
    "from sklearn.metrics import accuracy_score"
   ]
  },
  {
   "cell_type": "markdown",
   "id": "cae9971f",
   "metadata": {},
   "source": [
    "# Load The Dataset"
   ]
  },
  {
   "cell_type": "code",
   "execution_count": 2,
   "id": "02b92433",
   "metadata": {},
   "outputs": [
    {
     "data": {
      "text/html": [
       "<div>\n",
       "<style scoped>\n",
       "    .dataframe tbody tr th:only-of-type {\n",
       "        vertical-align: middle;\n",
       "    }\n",
       "\n",
       "    .dataframe tbody tr th {\n",
       "        vertical-align: top;\n",
       "    }\n",
       "\n",
       "    .dataframe thead th {\n",
       "        text-align: right;\n",
       "    }\n",
       "</style>\n",
       "<table border=\"1\" class=\"dataframe\">\n",
       "  <thead>\n",
       "    <tr style=\"text-align: right;\">\n",
       "      <th></th>\n",
       "      <th>v1</th>\n",
       "      <th>v2</th>\n",
       "    </tr>\n",
       "  </thead>\n",
       "  <tbody>\n",
       "    <tr>\n",
       "      <th>0</th>\n",
       "      <td>ham</td>\n",
       "      <td>Go until jurong point, crazy.. Available only ...</td>\n",
       "    </tr>\n",
       "    <tr>\n",
       "      <th>1</th>\n",
       "      <td>ham</td>\n",
       "      <td>Ok lar... Joking wif u oni...</td>\n",
       "    </tr>\n",
       "    <tr>\n",
       "      <th>2</th>\n",
       "      <td>spam</td>\n",
       "      <td>Free entry in 2 a wkly comp to win FA Cup fina...</td>\n",
       "    </tr>\n",
       "    <tr>\n",
       "      <th>3</th>\n",
       "      <td>ham</td>\n",
       "      <td>U dun say so early hor... U c already then say...</td>\n",
       "    </tr>\n",
       "    <tr>\n",
       "      <th>4</th>\n",
       "      <td>ham</td>\n",
       "      <td>Nah I don't think he goes to usf, he lives aro...</td>\n",
       "    </tr>\n",
       "    <tr>\n",
       "      <th>...</th>\n",
       "      <td>...</td>\n",
       "      <td>...</td>\n",
       "    </tr>\n",
       "    <tr>\n",
       "      <th>5567</th>\n",
       "      <td>spam</td>\n",
       "      <td>This is the 2nd time we have tried 2 contact u...</td>\n",
       "    </tr>\n",
       "    <tr>\n",
       "      <th>5568</th>\n",
       "      <td>ham</td>\n",
       "      <td>Will Ì_ b going to esplanade fr home?</td>\n",
       "    </tr>\n",
       "    <tr>\n",
       "      <th>5569</th>\n",
       "      <td>ham</td>\n",
       "      <td>Pity, * was in mood for that. So...any other s...</td>\n",
       "    </tr>\n",
       "    <tr>\n",
       "      <th>5570</th>\n",
       "      <td>ham</td>\n",
       "      <td>The guy did some bitching but I acted like i'd...</td>\n",
       "    </tr>\n",
       "    <tr>\n",
       "      <th>5571</th>\n",
       "      <td>ham</td>\n",
       "      <td>Rofl. Its true to its name</td>\n",
       "    </tr>\n",
       "  </tbody>\n",
       "</table>\n",
       "<p>5572 rows × 2 columns</p>\n",
       "</div>"
      ],
      "text/plain": [
       "        v1                                                 v2\n",
       "0      ham  Go until jurong point, crazy.. Available only ...\n",
       "1      ham                      Ok lar... Joking wif u oni...\n",
       "2     spam  Free entry in 2 a wkly comp to win FA Cup fina...\n",
       "3      ham  U dun say so early hor... U c already then say...\n",
       "4      ham  Nah I don't think he goes to usf, he lives aro...\n",
       "...    ...                                                ...\n",
       "5567  spam  This is the 2nd time we have tried 2 contact u...\n",
       "5568   ham              Will Ì_ b going to esplanade fr home?\n",
       "5569   ham  Pity, * was in mood for that. So...any other s...\n",
       "5570   ham  The guy did some bitching but I acted like i'd...\n",
       "5571   ham                         Rofl. Its true to its name\n",
       "\n",
       "[5572 rows x 2 columns]"
      ]
     },
     "execution_count": 2,
     "metadata": {},
     "output_type": "execute_result"
    }
   ],
   "source": [
    "dataset = pd.read_csv('spam.csv', usecols=['v1', 'v2'], encoding='latin1')\n",
    "dataset"
   ]
  },
  {
   "cell_type": "markdown",
   "id": "bf23f742",
   "metadata": {},
   "source": [
    "# Handling Missing Values"
   ]
  },
  {
   "cell_type": "code",
   "execution_count": 4,
   "id": "c29bf928",
   "metadata": {},
   "outputs": [],
   "source": [
    "dataset = dataset.where((pd.notnull(dataset)), '')"
   ]
  },
  {
   "cell_type": "markdown",
   "id": "42fc41a4",
   "metadata": {},
   "source": [
    "# Printing Information About The Dataset"
   ]
  },
  {
   "cell_type": "code",
   "execution_count": 5,
   "id": "13e7080c",
   "metadata": {},
   "outputs": [
    {
     "name": "stdout",
     "output_type": "stream",
     "text": [
      "<class 'pandas.core.frame.DataFrame'>\n",
      "RangeIndex: 5572 entries, 0 to 5571\n",
      "Data columns (total 2 columns):\n",
      " #   Column  Non-Null Count  Dtype \n",
      "---  ------  --------------  ----- \n",
      " 0   v1      5572 non-null   object\n",
      " 1   v2      5572 non-null   object\n",
      "dtypes: object(2)\n",
      "memory usage: 87.2+ KB\n"
     ]
    }
   ],
   "source": [
    "dataset.info()"
   ]
  },
  {
   "cell_type": "markdown",
   "id": "98016b6a",
   "metadata": {},
   "source": [
    "# Encoding Target Variables"
   ]
  },
  {
   "cell_type": "markdown",
   "id": "2603c849",
   "metadata": {},
   "source": [
    "<ul style=\"font-size:15px;line-height: 1.5;\">\n",
    "    <li>Target variable is that value which we want to predict. Here, the target variable has two classes - spam and ham.</li>\n",
    "    <li>0 is assigned to spam and 1 is assigned to ham</li>\n",
    "    <li>This simply means if the email is a spam, then output will be 0 and if email is ham, output will be 1.</li>\n",
    "</ul>"
   ]
  },
  {
   "cell_type": "code",
   "execution_count": 6,
   "id": "665175d1",
   "metadata": {},
   "outputs": [],
   "source": [
    "dataset.loc[dataset['v1']=='spam', 'v1',] = 0\n",
    "dataset.loc[dataset['v1']=='ham', 'v1',] = 1"
   ]
  },
  {
   "cell_type": "markdown",
   "id": "bc2262d3",
   "metadata": {},
   "source": [
    "# Separating The Training Data And Target Variable"
   ]
  },
  {
   "cell_type": "markdown",
   "id": "dd177104",
   "metadata": {},
   "source": [
    "<ul style=\"font-size:15px;line-height: 1.5;\">\n",
    "    <li>The training data i.e., the email messages are assigned to x.</li>\n",
    "    <li>The target variable i.e., the labels (spam or ham) for messages are assigned to y.</li>\n",
    "</ul>"
   ]
  },
  {
   "cell_type": "code",
   "execution_count": 7,
   "id": "4cb9c34c",
   "metadata": {},
   "outputs": [],
   "source": [
    "x = dataset['v2']\n",
    "y = dataset['v1']"
   ]
  },
  {
   "cell_type": "markdown",
   "id": "812fc690",
   "metadata": {},
   "source": [
    "## Printing The Training Data"
   ]
  },
  {
   "cell_type": "code",
   "execution_count": 8,
   "id": "cc6c72d7",
   "metadata": {},
   "outputs": [
    {
     "name": "stdout",
     "output_type": "stream",
     "text": [
      "0       Go until jurong point, crazy.. Available only ...\n",
      "1                           Ok lar... Joking wif u oni...\n",
      "2       Free entry in 2 a wkly comp to win FA Cup fina...\n",
      "3       U dun say so early hor... U c already then say...\n",
      "4       Nah I don't think he goes to usf, he lives aro...\n",
      "                              ...                        \n",
      "5567    This is the 2nd time we have tried 2 contact u...\n",
      "5568                Will Ì_ b going to esplanade fr home?\n",
      "5569    Pity, * was in mood for that. So...any other s...\n",
      "5570    The guy did some bitching but I acted like i'd...\n",
      "5571                           Rofl. Its true to its name\n",
      "Name: v2, Length: 5572, dtype: object\n"
     ]
    }
   ],
   "source": [
    "print(x)"
   ]
  },
  {
   "cell_type": "markdown",
   "id": "84f6fc7d",
   "metadata": {},
   "source": [
    "## Printing The Target Variable"
   ]
  },
  {
   "cell_type": "code",
   "execution_count": 9,
   "id": "837914c8",
   "metadata": {},
   "outputs": [
    {
     "name": "stdout",
     "output_type": "stream",
     "text": [
      "0       1\n",
      "1       1\n",
      "2       0\n",
      "3       1\n",
      "4       1\n",
      "       ..\n",
      "5567    0\n",
      "5568    1\n",
      "5569    1\n",
      "5570    1\n",
      "5571    1\n",
      "Name: v1, Length: 5572, dtype: object\n"
     ]
    }
   ],
   "source": [
    "print(y)"
   ]
  },
  {
   "cell_type": "markdown",
   "id": "ba1dab61",
   "metadata": {},
   "source": [
    "# Splitting The Dataset"
   ]
  },
  {
   "cell_type": "markdown",
   "id": "500ead14",
   "metadata": {},
   "source": [
    "<ul style=\"font-size:15px;line-height: 1.5;\">\n",
    "    <li>The entire dataset is split into 2 parts - training and testing in the ratio 8:2.</li>\n",
    "    <li>The training data will be used to train the models.</li>\n",
    "    <li>The testing data is the unseen data with which the model accuracy will be checked.</li>\n",
    "</ul>"
   ]
  },
  {
   "cell_type": "code",
   "execution_count": 10,
   "id": "2914f08f",
   "metadata": {},
   "outputs": [],
   "source": [
    "x_train, x_test, y_train, y_test = train_test_split(x,y,test_size = 0.2)"
   ]
  },
  {
   "cell_type": "markdown",
   "id": "7e7f7a24",
   "metadata": {},
   "source": [
    "## Printing The Training Data Shape"
   ]
  },
  {
   "cell_type": "code",
   "execution_count": 11,
   "id": "820feb4f",
   "metadata": {},
   "outputs": [
    {
     "name": "stdout",
     "output_type": "stream",
     "text": [
      "(4457,)\n",
      "(4457,)\n"
     ]
    }
   ],
   "source": [
    "print(x_train.shape)\n",
    "print(y_train.shape)"
   ]
  },
  {
   "cell_type": "markdown",
   "id": "6d3180a0",
   "metadata": {},
   "source": [
    "## Printing the Testing Data Shape"
   ]
  },
  {
   "cell_type": "code",
   "execution_count": 12,
   "id": "2f805ec6",
   "metadata": {},
   "outputs": [
    {
     "name": "stdout",
     "output_type": "stream",
     "text": [
      "(1115,)\n",
      "(1115,)\n"
     ]
    }
   ],
   "source": [
    "print(x_test.shape)\n",
    "print(y_test.shape)"
   ]
  },
  {
   "cell_type": "markdown",
   "id": "954b3966",
   "metadata": {},
   "source": [
    "# Feature Extraction"
   ]
  },
  {
   "cell_type": "markdown",
   "id": "0cd578ab",
   "metadata": {},
   "source": [
    "<p style=\"font-size:15px;line-height: 1.5;\">To extract meaningful features from text, it is converted into numerical representations</p>"
   ]
  },
  {
   "cell_type": "code",
   "execution_count": 13,
   "id": "25bfd061",
   "metadata": {},
   "outputs": [],
   "source": [
    "feature_extraction = TfidfVectorizer(min_df = 1, stop_words = 'english', lowercase = True)\n",
    "\n",
    "x_train_features = feature_extraction.fit_transform(x_train)\n",
    "x_test_features = feature_extraction.transform(x_test)\n",
    "\n",
    "y_train = y_train.astype('int')\n",
    "y_test = y_test.astype('int')"
   ]
  },
  {
   "cell_type": "markdown",
   "id": "36cd88d9",
   "metadata": {},
   "source": [
    "## Before Feature Extraction"
   ]
  },
  {
   "cell_type": "code",
   "execution_count": 14,
   "id": "7641679a",
   "metadata": {},
   "outputs": [
    {
     "name": "stdout",
     "output_type": "stream",
     "text": [
      "2758              What time. IÛ÷m out until prob 3 or so\n",
      "2941    Hello. No news on job, they are making me wait...\n",
      "5519    Can you pls send me that company name. In saib...\n",
      "3154                                                Ok...\n",
      "2505                 Congrats kano..whr s the treat maga?\n",
      "                              ...                        \n",
      "1759    Do u ever get a song stuck in your head for no...\n",
      "2052    Call 09094100151 to use ur mins! Calls cast 10...\n",
      "4854                                         Same to u...\n",
      "3166    When people see my msgs, They think Iam addict...\n",
      "3784    Let me know if you need anything else. Salad o...\n",
      "Name: v2, Length: 4457, dtype: object\n"
     ]
    }
   ],
   "source": [
    "print(x_train)"
   ]
  },
  {
   "cell_type": "markdown",
   "id": "16bff8d6",
   "metadata": {},
   "source": [
    "## After Feature Extraction"
   ]
  },
  {
   "cell_type": "code",
   "execution_count": 15,
   "id": "2578f6fb",
   "metadata": {},
   "outputs": [
    {
     "name": "stdout",
     "output_type": "stream",
     "text": [
      "  (0, 5284)\t0.8359467152211945\n",
      "  (0, 6677)\t0.5488106133366001\n",
      "  (1, 3403)\t0.18743087463448296\n",
      "  (1, 2665)\t0.3455115147127925\n",
      "  (1, 7176)\t0.36238236112270333\n",
      "  (1, 7309)\t0.36238236112270333\n",
      "  (1, 3536)\t0.21689748249572097\n",
      "  (1, 7398)\t0.21213702487846833\n",
      "  (1, 7189)\t0.20399236179839308\n",
      "  (1, 2792)\t0.36238236112270333\n",
      "  (1, 7107)\t0.2292899647547473\n",
      "  (1, 4231)\t0.2709588634380846\n",
      "  (1, 3743)\t0.24097792731086692\n",
      "  (1, 4644)\t0.2709588634380846\n",
      "  (1, 3330)\t0.24573838492811956\n",
      "  (2, 1881)\t0.563712980819382\n",
      "  (2, 5722)\t0.563712980819382\n",
      "  (2, 1916)\t0.4332976890082253\n",
      "  (2, 5839)\t0.27968152351623693\n",
      "  (2, 5113)\t0.31382592087847383\n",
      "  (3, 4788)\t1.0\n",
      "  (4, 4211)\t0.48113845790094695\n",
      "  (4, 6803)\t0.4018052765381354\n",
      "  (4, 7235)\t0.49840543969763945\n",
      "  (4, 3808)\t0.44754972732392345\n",
      "  :\t:\n",
      "  (4453, 1613)\t0.1758709224921876\n",
      "  (4453, 6297)\t0.1295659714848464\n",
      "  (4453, 4393)\t0.15669732745643003\n",
      "  (4453, 6961)\t0.10735471600873726\n",
      "  (4453, 3786)\t0.10287024105925678\n",
      "  (4455, 840)\t0.548960569798217\n",
      "  (4455, 3496)\t0.49294637208178377\n",
      "  (4455, 7350)\t0.22601108750682708\n",
      "  (4455, 6452)\t0.19836923665514195\n",
      "  (4455, 4510)\t0.2649710666895739\n",
      "  (4455, 6629)\t0.1582434829589146\n",
      "  (4455, 5002)\t0.18496674634181418\n",
      "  (4455, 1532)\t0.22865686785338385\n",
      "  (4455, 1272)\t0.23468343549133203\n",
      "  (4455, 2953)\t0.18969688867063703\n",
      "  (4455, 4512)\t0.2235614775180296\n",
      "  (4455, 2392)\t0.15542194659034053\n",
      "  (4455, 3874)\t0.1351685414709244\n",
      "  (4456, 1297)\t0.4840300519761388\n",
      "  (4456, 5725)\t0.4840300519761388\n",
      "  (4456, 2251)\t0.4614958518032293\n",
      "  (4456, 5886)\t0.341479975289898\n",
      "  (4456, 4610)\t0.2574161137208316\n",
      "  (4456, 3874)\t0.22726485148488348\n",
      "  (4456, 3997)\t0.2897075326752711\n"
     ]
    }
   ],
   "source": [
    "print(x_train_features)"
   ]
  },
  {
   "cell_type": "markdown",
   "id": "b4d57f93",
   "metadata": {},
   "source": [
    "# Import Libraries For Model Training And Testing"
   ]
  },
  {
   "cell_type": "code",
   "execution_count": 16,
   "id": "556b181f",
   "metadata": {},
   "outputs": [],
   "source": [
    "from sklearn.linear_model import LogisticRegression\n",
    "from sklearn.naive_bayes import MultinomialNB\n",
    "from sklearn.tree import DecisionTreeClassifier\n",
    "from sklearn.ensemble import RandomForestClassifier\n",
    "from sklearn.svm import SVC\n",
    "from sklearn.neighbors import KNeighborsClassifier\n",
    "from sklearn.metrics import classification_report, confusion_matrix, accuracy_score"
   ]
  },
  {
   "cell_type": "markdown",
   "id": "fd997bb6",
   "metadata": {},
   "source": [
    "# Logistic Regression"
   ]
  },
  {
   "cell_type": "markdown",
   "id": "b0139fb5",
   "metadata": {},
   "source": [
    "## Training And Testing The Model"
   ]
  },
  {
   "cell_type": "code",
   "execution_count": 17,
   "id": "a1b3695d",
   "metadata": {},
   "outputs": [
    {
     "name": "stdout",
     "output_type": "stream",
     "text": [
      "Accuracy :  0.9704035874439462\n",
      "Classification Report\n",
      "              precision    recall  f1-score   support\n",
      "\n",
      "           0       0.98      0.74      0.84       120\n",
      "           1       0.97      1.00      0.98       995\n",
      "\n",
      "    accuracy                           0.97      1115\n",
      "   macro avg       0.97      0.87      0.91      1115\n",
      "weighted avg       0.97      0.97      0.97      1115\n",
      "\n",
      "\n",
      "Confusion Matrix\n",
      "[[ 89  31]\n",
      " [  2 993]]\n"
     ]
    }
   ],
   "source": [
    "model1 = LogisticRegression()\n",
    "model1.fit(x_train_features, y_train)\n",
    "y_pred = model1.predict(x_test_features)\n",
    "print(\"Accuracy : \", model1.score(x_test_features,y_test))\n",
    "\n",
    "print('Classification Report')\n",
    "print(classification_report(y_test, y_pred))\n",
    "print()\n",
    "\n",
    "print('Confusion Matrix')\n",
    "print(confusion_matrix(y_test, y_pred))"
   ]
  },
  {
   "cell_type": "markdown",
   "id": "cde40653",
   "metadata": {},
   "source": [
    "## Saving The Model"
   ]
  },
  {
   "cell_type": "code",
   "execution_count": 18,
   "id": "aa8aba62",
   "metadata": {},
   "outputs": [
    {
     "name": "stdout",
     "output_type": "stream",
     "text": [
      "Model saved as logistic_regression_model.pkl\n"
     ]
    }
   ],
   "source": [
    "import joblib\n",
    "filename = 'logistic_regression_model.pkl'\n",
    "joblib.dump(model1, filename)\n",
    "print(f\"Model saved as {filename}\")"
   ]
  },
  {
   "cell_type": "markdown",
   "id": "48a3da1c",
   "metadata": {},
   "source": [
    "# Multinomial Naive Bayes"
   ]
  },
  {
   "cell_type": "markdown",
   "id": "b9dcf8da",
   "metadata": {},
   "source": [
    "## Training And Testing The Model"
   ]
  },
  {
   "cell_type": "code",
   "execution_count": 19,
   "id": "cc9b77a1",
   "metadata": {},
   "outputs": [
    {
     "name": "stdout",
     "output_type": "stream",
     "text": [
      "Accuracy: 0.9721973094170404\n",
      "Classification Report:\n",
      "              precision    recall  f1-score   support\n",
      "\n",
      "           0       1.00      0.74      0.85       120\n",
      "           1       0.97      1.00      0.98       995\n",
      "\n",
      "    accuracy                           0.97      1115\n",
      "   macro avg       0.98      0.87      0.92      1115\n",
      "weighted avg       0.97      0.97      0.97      1115\n",
      "\n",
      "\n",
      "Confusion Matrix:\n",
      "[[ 89  31]\n",
      " [  0 995]]\n"
     ]
    }
   ],
   "source": [
    "model2 = MultinomialNB()\n",
    "model2.fit(x_train_features, y_train)\n",
    "\n",
    "# Predict and evaluate the model\n",
    "y_pred = model2.predict(x_test_features)\n",
    "print(\"Accuracy:\", model2.score(x_test_features, y_test))\n",
    "\n",
    "print('Classification Report:')\n",
    "print(classification_report(y_test, y_pred))\n",
    "print()\n",
    "\n",
    "print('Confusion Matrix:')\n",
    "print(confusion_matrix(y_test, y_pred))"
   ]
  },
  {
   "cell_type": "markdown",
   "id": "278ceb2d",
   "metadata": {},
   "source": [
    "## Saving The Model"
   ]
  },
  {
   "cell_type": "code",
   "execution_count": 20,
   "id": "5e0b3275",
   "metadata": {},
   "outputs": [
    {
     "name": "stdout",
     "output_type": "stream",
     "text": [
      "Model saved as multinomial_bayes_model.pkl\n"
     ]
    }
   ],
   "source": [
    "filename = 'multinomial_bayes_model.pkl'\n",
    "joblib.dump(model2, filename)\n",
    "print(f\"Model saved as {filename}\")"
   ]
  },
  {
   "cell_type": "markdown",
   "id": "442de05e",
   "metadata": {},
   "source": [
    "# Decision Tree"
   ]
  },
  {
   "cell_type": "markdown",
   "id": "7a4b7096",
   "metadata": {},
   "source": [
    "## Training And Testing The Model"
   ]
  },
  {
   "cell_type": "code",
   "execution_count": 21,
   "id": "126d6226",
   "metadata": {},
   "outputs": [
    {
     "name": "stdout",
     "output_type": "stream",
     "text": [
      "Accuracy :  0.9704035874439462\n",
      "Classification Report\n",
      "              precision    recall  f1-score   support\n",
      "\n",
      "           0       0.88      0.83      0.86       120\n",
      "           1       0.98      0.99      0.98       995\n",
      "\n",
      "    accuracy                           0.97      1115\n",
      "   macro avg       0.93      0.91      0.92      1115\n",
      "weighted avg       0.97      0.97      0.97      1115\n",
      "\n",
      "\n",
      "Confusion Matrix\n",
      "[[100  20]\n",
      " [ 13 982]]\n"
     ]
    }
   ],
   "source": [
    "model3 = DecisionTreeClassifier()\n",
    "model3.fit(x_train_features, y_train)\n",
    "y_pred = model3.predict(x_test_features)\n",
    "print(\"Accuracy : \", model3.score(x_test_features,y_test))\n",
    "\n",
    "print('Classification Report')\n",
    "print(classification_report(y_test, y_pred))\n",
    "print()\n",
    "\n",
    "print('Confusion Matrix')\n",
    "print(confusion_matrix(y_test, y_pred))"
   ]
  },
  {
   "cell_type": "markdown",
   "id": "372b0e3c",
   "metadata": {},
   "source": [
    "## Saving The Model"
   ]
  },
  {
   "cell_type": "code",
   "execution_count": 22,
   "id": "6ee43eef",
   "metadata": {},
   "outputs": [
    {
     "name": "stdout",
     "output_type": "stream",
     "text": [
      "Model saved as decision_tree_model.pkl\n"
     ]
    }
   ],
   "source": [
    "filename = 'decision_tree_model.pkl'\n",
    "joblib.dump(model3, filename)\n",
    "print(f\"Model saved as {filename}\")"
   ]
  },
  {
   "cell_type": "markdown",
   "id": "961bf08a",
   "metadata": {},
   "source": [
    "# Random Forest"
   ]
  },
  {
   "cell_type": "markdown",
   "id": "8d97c19a",
   "metadata": {},
   "source": [
    "## Training And Testing The Model"
   ]
  },
  {
   "cell_type": "code",
   "execution_count": 23,
   "id": "d6375435",
   "metadata": {},
   "outputs": [
    {
     "name": "stdout",
     "output_type": "stream",
     "text": [
      "Accuracy :  0.9802690582959641\n",
      "Classification Report\n",
      "              precision    recall  f1-score   support\n",
      "\n",
      "           0       1.00      0.82      0.90       120\n",
      "           1       0.98      1.00      0.99       995\n",
      "\n",
      "    accuracy                           0.98      1115\n",
      "   macro avg       0.99      0.91      0.94      1115\n",
      "weighted avg       0.98      0.98      0.98      1115\n",
      "\n",
      "\n",
      "Confusion Matrix\n",
      "[[ 98  22]\n",
      " [  0 995]]\n"
     ]
    }
   ],
   "source": [
    "model4 = RandomForestClassifier()\n",
    "model4.fit(x_train_features, y_train)\n",
    "y_pred = model4.predict(x_test_features)\n",
    "print(\"Accuracy : \", model4.score(x_test_features,y_test))\n",
    "\n",
    "print('Classification Report')\n",
    "print(classification_report(y_test, y_pred))\n",
    "print()\n",
    "\n",
    "print('Confusion Matrix')\n",
    "print(confusion_matrix(y_test, y_pred))"
   ]
  },
  {
   "cell_type": "markdown",
   "id": "a7327825",
   "metadata": {},
   "source": [
    "## Saving The Model"
   ]
  },
  {
   "cell_type": "code",
   "execution_count": 24,
   "id": "070d49b5",
   "metadata": {},
   "outputs": [
    {
     "name": "stdout",
     "output_type": "stream",
     "text": [
      "Model saved as random_forest_model.pkl\n"
     ]
    }
   ],
   "source": [
    "filename = 'random_forest_model.pkl'\n",
    "joblib.dump(model4, filename)\n",
    "print(f\"Model saved as {filename}\")"
   ]
  },
  {
   "cell_type": "markdown",
   "id": "9f664af1",
   "metadata": {},
   "source": [
    "# Support Vector Machine"
   ]
  },
  {
   "cell_type": "markdown",
   "id": "61191777",
   "metadata": {},
   "source": [
    "## Training And Testing The Model"
   ]
  },
  {
   "cell_type": "code",
   "execution_count": 25,
   "id": "35f06739",
   "metadata": {},
   "outputs": [
    {
     "name": "stdout",
     "output_type": "stream",
     "text": [
      "Accuracy :  0.9856502242152466\n",
      "Classification Report\n",
      "              precision    recall  f1-score   support\n",
      "\n",
      "           0       1.00      0.87      0.93       120\n",
      "           1       0.98      1.00      0.99       995\n",
      "\n",
      "    accuracy                           0.99      1115\n",
      "   macro avg       0.99      0.93      0.96      1115\n",
      "weighted avg       0.99      0.99      0.99      1115\n",
      "\n",
      "\n",
      "Confusion Matrix\n",
      "[[104  16]\n",
      " [  0 995]]\n"
     ]
    }
   ],
   "source": [
    "model5 = SVC()\n",
    "model5.fit(x_train_features, y_train)\n",
    "y_pred = model5.predict(x_test_features)\n",
    "print(\"Accuracy : \", model5.score(x_test_features,y_test))\n",
    "\n",
    "print('Classification Report')\n",
    "print(classification_report(y_test, y_pred))\n",
    "print()\n",
    "\n",
    "print('Confusion Matrix')\n",
    "print(confusion_matrix(y_test, y_pred))"
   ]
  },
  {
   "cell_type": "markdown",
   "id": "ed05b225",
   "metadata": {},
   "source": [
    "## Saving The Model"
   ]
  },
  {
   "cell_type": "code",
   "execution_count": 26,
   "id": "5e0cc745",
   "metadata": {},
   "outputs": [
    {
     "name": "stdout",
     "output_type": "stream",
     "text": [
      "Model saved as svm_model.pkl\n"
     ]
    }
   ],
   "source": [
    "filename = 'svm_model.pkl'\n",
    "joblib.dump(model5, filename)\n",
    "print(f\"Model saved as {filename}\")"
   ]
  },
  {
   "cell_type": "markdown",
   "id": "c99e2167",
   "metadata": {},
   "source": [
    "# K-Nearest Neighbors"
   ]
  },
  {
   "cell_type": "markdown",
   "id": "2e43dd0d",
   "metadata": {},
   "source": [
    "## Training And Testing The Model"
   ]
  },
  {
   "cell_type": "code",
   "execution_count": 27,
   "id": "0c7f9404",
   "metadata": {},
   "outputs": [
    {
     "name": "stdout",
     "output_type": "stream",
     "text": [
      "Accuracy :  0.9282511210762332\n",
      "Classification Report\n",
      "              precision    recall  f1-score   support\n",
      "\n",
      "           0       1.00      0.33      0.50       120\n",
      "           1       0.93      1.00      0.96       995\n",
      "\n",
      "    accuracy                           0.93      1115\n",
      "   macro avg       0.96      0.67      0.73      1115\n",
      "weighted avg       0.93      0.93      0.91      1115\n",
      "\n",
      "\n",
      "Confusion Matrix\n",
      "[[ 40  80]\n",
      " [  0 995]]\n"
     ]
    }
   ],
   "source": [
    "model6 = KNeighborsClassifier()\n",
    "model6.fit(x_train_features, y_train)\n",
    "y_pred = model6.predict(x_test_features)\n",
    "print(\"Accuracy : \", model6.score(x_test_features,y_test))\n",
    "\n",
    "print('Classification Report')\n",
    "print(classification_report(y_test, y_pred))\n",
    "print()\n",
    "\n",
    "print('Confusion Matrix')\n",
    "print(confusion_matrix(y_test, y_pred))"
   ]
  },
  {
   "cell_type": "markdown",
   "id": "90f65668",
   "metadata": {},
   "source": [
    "## Saving The Model"
   ]
  },
  {
   "cell_type": "code",
   "execution_count": 28,
   "id": "4bcfa501",
   "metadata": {},
   "outputs": [
    {
     "name": "stdout",
     "output_type": "stream",
     "text": [
      "Model saved as knn_model.pkl\n"
     ]
    }
   ],
   "source": [
    "filename = 'knn_model.pkl'\n",
    "joblib.dump(model5, filename)\n",
    "print(f\"Model saved as {filename}\")"
   ]
  },
  {
   "cell_type": "markdown",
   "id": "90c7a0a8",
   "metadata": {},
   "source": [
    "# Accuracies Of Different Models"
   ]
  },
  {
   "cell_type": "code",
   "execution_count": 29,
   "id": "53f5545d",
   "metadata": {},
   "outputs": [
    {
     "name": "stdout",
     "output_type": "stream",
     "text": [
      "Logistic Regression accuracy: 97.04035874439462\n",
      "Multinomial Bayes accuracy: 97.21973094170404\n",
      "Decision Tree accuracy: 97.04035874439462\n",
      "Random Forest accuracy: 98.02690582959642\n",
      "Support Vector Machine accuracy: 98.56502242152466\n",
      "K-Nearest Neighbors accuracy: 92.82511210762333\n"
     ]
    }
   ],
   "source": [
    "print(f'Logistic Regression accuracy: {model1.score(x_test_features,y_test)*100}')\n",
    "print(f'Multinomial Bayes accuracy: {model2.score(x_test_features,y_test)*100}')\n",
    "print(f'Decision Tree accuracy: {model3.score(x_test_features,y_test)*100}')\n",
    "print(f'Random Forest accuracy: {model4.score(x_test_features,y_test)*100}')\n",
    "print(f'Support Vector Machine accuracy: {model5.score(x_test_features,y_test)*100}')\n",
    "print(f'K-Nearest Neighbors accuracy: {model6.score(x_test_features,y_test)*100}')"
   ]
  },
  {
   "cell_type": "markdown",
   "id": "bbc7ea92",
   "metadata": {},
   "source": [
    "# Taking User Input And Making Predictions"
   ]
  },
  {
   "cell_type": "code",
   "execution_count": 37,
   "id": "6be4834e",
   "metadata": {},
   "outputs": [
    {
     "name": "stdout",
     "output_type": "stream",
     "text": [
      "Choose a model to load:\n",
      "1. Logistic Regression\n",
      "2. Multinomial Bayes\n",
      "3. Decision Tree\n",
      "4. Random Forest\n",
      "5. Support Vector Machine\n",
      "6. K-Nearest Neighbors\n",
      "Enter your choice (1-6): 1\n",
      "Enter a text message: Free entry in 2 a wkly comp to win FA Cup final tkts 21st May 2005. Text FA to 87121 to receive entry question(std txt rate)T&C's apply 08452810075over18's\t\t\t\n",
      "The predicted class for the given message using Logistic Regression is: spam\n",
      "Do you want to quit? (yes/no) no\n",
      "Do you want to continue with the same model or choose a different model? (continue/change): change\n",
      "\n",
      "Choose a model to load:\n",
      "1. Logistic Regression\n",
      "2. Multinomial Bayes\n",
      "3. Decision Tree\n",
      "4. Random Forest\n",
      "5. Support Vector Machine\n",
      "6. K-Nearest Neighbors\n",
      "Enter your choice (1-6): 4\n",
      "Enter a text message: Nah I don't think he goes to usf, he lives around here though\t\t\t\n",
      "The predicted class for the given message using Random Forest is: ham\n",
      "Do you want to quit? (yes/no) y\n",
      "Please enter either 'yes' or 'no'.\n",
      "Do you want to quit? (yes/no) no\n",
      "Do you want to continue with the same model or choose a different model? (continue/change): ch\n",
      "Please enter either 'continue' or 'change'.\n",
      "Do you want to continue with the same model or choose a different model? (continue/change): continue\n",
      "Enter a text message: URGENT! You have won a 1 week FREE membership in our å£100,000 Prize Jackpot! Txt the word: CLAIM to No: 81010 T&C www.dbuk.net LCCLTD POBOX 4403LDNW1A7RW18\t\t\t\n",
      "The predicted class for the given message using Random Forest is: spam\n",
      "Do you want to quit? (yes/no) yes\n"
     ]
    }
   ],
   "source": [
    "import warnings\n",
    "# Suppress warnings\n",
    "warnings.filterwarnings(\"ignore\")\n",
    "\n",
    "# Dictionary mapping model names to their filenames\n",
    "model_files = {\n",
    "    'Logistic Regression': 'logistic_regression_model.pkl',\n",
    "    'Multinomial Bayes': 'multinomial_bayes_model.pkl',\n",
    "    'Decision Tree': 'decision_tree_model.pkl',\n",
    "    'Random Forest': 'random_forest_model.pkl',\n",
    "    'Support Vector Machine': 'svm_model.pkl',\n",
    "    'K-Nearest Neighbors': 'knn_model.pkl'\n",
    "}\n",
    "\n",
    "def choose_model():\n",
    "    print(\"Choose a model to load:\")\n",
    "    for idx, model_name in enumerate(model_files.keys(), 1):\n",
    "        print(f\"{idx}. {model_name}\")\n",
    "    while True:\n",
    "        try:\n",
    "            choice = int(input(\"Enter your choice (1-6): \"))\n",
    "            if choice < 1 or choice > 6:\n",
    "                raise ValueError(\"Please enter a number between 1 and 6.\")\n",
    "            break\n",
    "        except ValueError as e:\n",
    "            print(e)\n",
    "    selected_model_name = list(model_files.keys())[choice - 1]\n",
    "    selected_model_file = model_files[selected_model_name]\n",
    "    return selected_model_name, selected_model_file\n",
    "\n",
    "def load_selected_model(selected_model_file):\n",
    "    loaded_model = joblib.load(selected_model_file)\n",
    "    return loaded_model\n",
    "\n",
    "def get_user_input():\n",
    "    text_message = input(\"Enter a text message: \")\n",
    "    user_input_df = pd.DataFrame([text_message], columns=['v2'])\n",
    "    return user_input_df\n",
    "\n",
    "def make_prediction(loaded_model, selected_model_name):\n",
    "    user_input_df = get_user_input()\n",
    "    user_input_features = feature_extraction.transform(user_input_df['v2'])  # Reuse the same vectorizer\n",
    "    predicted_class = loaded_model.predict(user_input_features)\n",
    "    print(f\"The predicted class for the given message using {selected_model_name} is: {'spam' if predicted_class[0] == 0 else 'ham'}\")\n",
    "\n",
    "\n",
    "selected_model_name, selected_model_file = choose_model()\n",
    "loaded_model = load_selected_model(selected_model_file)\n",
    "\n",
    "while True:\n",
    "    make_prediction(loaded_model, selected_model_name)\n",
    "    while True:\n",
    "        yes_or_no = input(\"Do you want to quit? (yes/no) \").lower()\n",
    "        \n",
    "        if yes_or_no == 'yes':\n",
    "            break\n",
    "        elif yes_or_no == 'no':\n",
    "            while True:\n",
    "                continue_or_change = input(\"Do you want to continue with the same model or choose a different model? (continue/change): \").lower()\n",
    "\n",
    "                if continue_or_change == 'change':\n",
    "                    print()\n",
    "                    selected_model_name, selected_model_file = choose_model()\n",
    "                    loaded_model = load_selected_model(selected_model_file)\n",
    "                    break\n",
    "                elif continue_or_change == 'continue':\n",
    "                    break\n",
    "                else:\n",
    "                    print(\"Please enter either 'continue' or 'change'.\")\n",
    "            break\n",
    "        else:\n",
    "            print(\"Please enter either 'yes' or 'no'.\")\n",
    "    if yes_or_no == 'yes':\n",
    "        break"
   ]
  },
  {
   "cell_type": "code",
   "execution_count": null,
   "id": "9fe4cc97",
   "metadata": {},
   "outputs": [],
   "source": []
  }
 ],
 "metadata": {
  "kernelspec": {
   "display_name": "Python 3 (ipykernel)",
   "language": "python",
   "name": "python3"
  },
  "language_info": {
   "codemirror_mode": {
    "name": "ipython",
    "version": 3
   },
   "file_extension": ".py",
   "mimetype": "text/x-python",
   "name": "python",
   "nbconvert_exporter": "python",
   "pygments_lexer": "ipython3",
   "version": "3.9.16"
  }
 },
 "nbformat": 4,
 "nbformat_minor": 5
}
